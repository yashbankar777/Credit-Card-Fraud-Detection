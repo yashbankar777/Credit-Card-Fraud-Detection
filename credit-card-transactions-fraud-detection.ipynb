{
 "cells": [
  {
   "cell_type": "code",
   "execution_count": 1,
   "metadata": {
    "_cell_guid": "b1076dfc-b9ad-4769-8c92-a6c4dae69d19",
    "_uuid": "8f2839f25d086af736a60e9eeb907d3b93b6e0e5",
    "execution": {
     "iopub.execute_input": "2023-12-17T16:44:00.158436Z",
     "iopub.status.busy": "2023-12-17T16:44:00.157766Z",
     "iopub.status.idle": "2023-12-17T16:44:01.791176Z",
     "shell.execute_reply": "2023-12-17T16:44:01.790544Z",
     "shell.execute_reply.started": "2023-12-17T16:40:38.810417Z"
    },
    "papermill": {
     "duration": 1.652531,
     "end_time": "2023-12-17T16:44:01.791300",
     "exception": false,
     "start_time": "2023-12-17T16:44:00.138769",
     "status": "completed"
    },
    "tags": []
   },
   "outputs": [],
   "source": [
    "import numpy as np\n",
    "import pandas as pd\n",
    "import matplotlib.pyplot as plt\n",
    "import seaborn as sns\n",
    "import os\n",
    "from sklearn.model_selection import train_test_split\n",
    "from sklearn.preprocessing import StandardScaler, LabelEncoder\n",
    "from sklearn.linear_model import LogisticRegression\n",
    "from sklearn.metrics import accuracy_score, classification_report, confusion_matrix"
   ]
  },
  {
   "cell_type": "code",
   "execution_count": 2,
   "metadata": {
    "_cell_guid": "79c7e3d0-c299-4dcb-8224-4455121ee9b0",
    "_uuid": "d629ff2d2480ee46fbb7e2d37f6b5fab8052498a",
    "execution": {
     "iopub.execute_input": "2023-12-17T16:44:01.827320Z",
     "iopub.status.busy": "2023-12-17T16:44:01.826668Z",
     "iopub.status.idle": "2023-12-17T16:44:12.235502Z",
     "shell.execute_reply": "2023-12-17T16:44:12.234685Z",
     "shell.execute_reply.started": "2023-12-17T16:40:39.784182Z"
    },
    "papermill": {
     "duration": 10.431765,
     "end_time": "2023-12-17T16:44:12.235638",
     "exception": false,
     "start_time": "2023-12-17T16:44:01.803873",
     "status": "completed"
    },
    "tags": []
   },
   "outputs": [],
   "source": [
    "credit_card_data = pd.read_csv('/kaggle/input/fraud-detection/fraudTrain.csv',parse_dates=['trans_date_trans_time',])"
   ]
  },
  {
   "cell_type": "code",
   "execution_count": 3,
   "metadata": {
    "execution": {
     "iopub.execute_input": "2023-12-17T16:44:12.293192Z",
     "iopub.status.busy": "2023-12-17T16:44:12.285739Z",
     "iopub.status.idle": "2023-12-17T16:44:12.315113Z",
     "shell.execute_reply": "2023-12-17T16:44:12.315710Z",
     "shell.execute_reply.started": "2023-12-17T16:40:49.818402Z"
    },
    "papermill": {
     "duration": 0.065732,
     "end_time": "2023-12-17T16:44:12.315863",
     "exception": false,
     "start_time": "2023-12-17T16:44:12.250131",
     "status": "completed"
    },
    "tags": []
   },
   "outputs": [
    {
     "data": {
      "text/html": [
       "<div>\n",
       "<style scoped>\n",
       "    .dataframe tbody tr th:only-of-type {\n",
       "        vertical-align: middle;\n",
       "    }\n",
       "\n",
       "    .dataframe tbody tr th {\n",
       "        vertical-align: top;\n",
       "    }\n",
       "\n",
       "    .dataframe thead th {\n",
       "        text-align: right;\n",
       "    }\n",
       "</style>\n",
       "<table border=\"1\" class=\"dataframe\">\n",
       "  <thead>\n",
       "    <tr style=\"text-align: right;\">\n",
       "      <th></th>\n",
       "      <th>Unnamed: 0</th>\n",
       "      <th>trans_date_trans_time</th>\n",
       "      <th>cc_num</th>\n",
       "      <th>merchant</th>\n",
       "      <th>category</th>\n",
       "      <th>amt</th>\n",
       "      <th>first</th>\n",
       "      <th>last</th>\n",
       "      <th>gender</th>\n",
       "      <th>street</th>\n",
       "      <th>...</th>\n",
       "      <th>lat</th>\n",
       "      <th>long</th>\n",
       "      <th>city_pop</th>\n",
       "      <th>job</th>\n",
       "      <th>dob</th>\n",
       "      <th>trans_num</th>\n",
       "      <th>unix_time</th>\n",
       "      <th>merch_lat</th>\n",
       "      <th>merch_long</th>\n",
       "      <th>is_fraud</th>\n",
       "    </tr>\n",
       "  </thead>\n",
       "  <tbody>\n",
       "    <tr>\n",
       "      <th>0</th>\n",
       "      <td>0</td>\n",
       "      <td>2019-01-01 00:00:18</td>\n",
       "      <td>2703186189652095</td>\n",
       "      <td>fraud_Rippin, Kub and Mann</td>\n",
       "      <td>misc_net</td>\n",
       "      <td>4.97</td>\n",
       "      <td>Jennifer</td>\n",
       "      <td>Banks</td>\n",
       "      <td>F</td>\n",
       "      <td>561 Perry Cove</td>\n",
       "      <td>...</td>\n",
       "      <td>36.0788</td>\n",
       "      <td>-81.1781</td>\n",
       "      <td>3495</td>\n",
       "      <td>Psychologist, counselling</td>\n",
       "      <td>1988-03-09</td>\n",
       "      <td>0b242abb623afc578575680df30655b9</td>\n",
       "      <td>1325376018</td>\n",
       "      <td>36.011293</td>\n",
       "      <td>-82.048315</td>\n",
       "      <td>0</td>\n",
       "    </tr>\n",
       "    <tr>\n",
       "      <th>1</th>\n",
       "      <td>1</td>\n",
       "      <td>2019-01-01 00:00:44</td>\n",
       "      <td>630423337322</td>\n",
       "      <td>fraud_Heller, Gutmann and Zieme</td>\n",
       "      <td>grocery_pos</td>\n",
       "      <td>107.23</td>\n",
       "      <td>Stephanie</td>\n",
       "      <td>Gill</td>\n",
       "      <td>F</td>\n",
       "      <td>43039 Riley Greens Suite 393</td>\n",
       "      <td>...</td>\n",
       "      <td>48.8878</td>\n",
       "      <td>-118.2105</td>\n",
       "      <td>149</td>\n",
       "      <td>Special educational needs teacher</td>\n",
       "      <td>1978-06-21</td>\n",
       "      <td>1f76529f8574734946361c461b024d99</td>\n",
       "      <td>1325376044</td>\n",
       "      <td>49.159047</td>\n",
       "      <td>-118.186462</td>\n",
       "      <td>0</td>\n",
       "    </tr>\n",
       "    <tr>\n",
       "      <th>2</th>\n",
       "      <td>2</td>\n",
       "      <td>2019-01-01 00:00:51</td>\n",
       "      <td>38859492057661</td>\n",
       "      <td>fraud_Lind-Buckridge</td>\n",
       "      <td>entertainment</td>\n",
       "      <td>220.11</td>\n",
       "      <td>Edward</td>\n",
       "      <td>Sanchez</td>\n",
       "      <td>M</td>\n",
       "      <td>594 White Dale Suite 530</td>\n",
       "      <td>...</td>\n",
       "      <td>42.1808</td>\n",
       "      <td>-112.2620</td>\n",
       "      <td>4154</td>\n",
       "      <td>Nature conservation officer</td>\n",
       "      <td>1962-01-19</td>\n",
       "      <td>a1a22d70485983eac12b5b88dad1cf95</td>\n",
       "      <td>1325376051</td>\n",
       "      <td>43.150704</td>\n",
       "      <td>-112.154481</td>\n",
       "      <td>0</td>\n",
       "    </tr>\n",
       "    <tr>\n",
       "      <th>3</th>\n",
       "      <td>3</td>\n",
       "      <td>2019-01-01 00:01:16</td>\n",
       "      <td>3534093764340240</td>\n",
       "      <td>fraud_Kutch, Hermiston and Farrell</td>\n",
       "      <td>gas_transport</td>\n",
       "      <td>45.00</td>\n",
       "      <td>Jeremy</td>\n",
       "      <td>White</td>\n",
       "      <td>M</td>\n",
       "      <td>9443 Cynthia Court Apt. 038</td>\n",
       "      <td>...</td>\n",
       "      <td>46.2306</td>\n",
       "      <td>-112.1138</td>\n",
       "      <td>1939</td>\n",
       "      <td>Patent attorney</td>\n",
       "      <td>1967-01-12</td>\n",
       "      <td>6b849c168bdad6f867558c3793159a81</td>\n",
       "      <td>1325376076</td>\n",
       "      <td>47.034331</td>\n",
       "      <td>-112.561071</td>\n",
       "      <td>0</td>\n",
       "    </tr>\n",
       "    <tr>\n",
       "      <th>4</th>\n",
       "      <td>4</td>\n",
       "      <td>2019-01-01 00:03:06</td>\n",
       "      <td>375534208663984</td>\n",
       "      <td>fraud_Keeling-Crist</td>\n",
       "      <td>misc_pos</td>\n",
       "      <td>41.96</td>\n",
       "      <td>Tyler</td>\n",
       "      <td>Garcia</td>\n",
       "      <td>M</td>\n",
       "      <td>408 Bradley Rest</td>\n",
       "      <td>...</td>\n",
       "      <td>38.4207</td>\n",
       "      <td>-79.4629</td>\n",
       "      <td>99</td>\n",
       "      <td>Dance movement psychotherapist</td>\n",
       "      <td>1986-03-28</td>\n",
       "      <td>a41d7549acf90789359a9aa5346dcb46</td>\n",
       "      <td>1325376186</td>\n",
       "      <td>38.674999</td>\n",
       "      <td>-78.632459</td>\n",
       "      <td>0</td>\n",
       "    </tr>\n",
       "  </tbody>\n",
       "</table>\n",
       "<p>5 rows × 23 columns</p>\n",
       "</div>"
      ],
      "text/plain": [
       "   Unnamed: 0 trans_date_trans_time            cc_num  \\\n",
       "0           0   2019-01-01 00:00:18  2703186189652095   \n",
       "1           1   2019-01-01 00:00:44      630423337322   \n",
       "2           2   2019-01-01 00:00:51    38859492057661   \n",
       "3           3   2019-01-01 00:01:16  3534093764340240   \n",
       "4           4   2019-01-01 00:03:06   375534208663984   \n",
       "\n",
       "                             merchant       category     amt      first  \\\n",
       "0          fraud_Rippin, Kub and Mann       misc_net    4.97   Jennifer   \n",
       "1     fraud_Heller, Gutmann and Zieme    grocery_pos  107.23  Stephanie   \n",
       "2                fraud_Lind-Buckridge  entertainment  220.11     Edward   \n",
       "3  fraud_Kutch, Hermiston and Farrell  gas_transport   45.00     Jeremy   \n",
       "4                 fraud_Keeling-Crist       misc_pos   41.96      Tyler   \n",
       "\n",
       "      last gender                        street  ...      lat      long  \\\n",
       "0    Banks      F                561 Perry Cove  ...  36.0788  -81.1781   \n",
       "1     Gill      F  43039 Riley Greens Suite 393  ...  48.8878 -118.2105   \n",
       "2  Sanchez      M      594 White Dale Suite 530  ...  42.1808 -112.2620   \n",
       "3    White      M   9443 Cynthia Court Apt. 038  ...  46.2306 -112.1138   \n",
       "4   Garcia      M              408 Bradley Rest  ...  38.4207  -79.4629   \n",
       "\n",
       "   city_pop                                job         dob  \\\n",
       "0      3495          Psychologist, counselling  1988-03-09   \n",
       "1       149  Special educational needs teacher  1978-06-21   \n",
       "2      4154        Nature conservation officer  1962-01-19   \n",
       "3      1939                    Patent attorney  1967-01-12   \n",
       "4        99     Dance movement psychotherapist  1986-03-28   \n",
       "\n",
       "                          trans_num   unix_time  merch_lat  merch_long  \\\n",
       "0  0b242abb623afc578575680df30655b9  1325376018  36.011293  -82.048315   \n",
       "1  1f76529f8574734946361c461b024d99  1325376044  49.159047 -118.186462   \n",
       "2  a1a22d70485983eac12b5b88dad1cf95  1325376051  43.150704 -112.154481   \n",
       "3  6b849c168bdad6f867558c3793159a81  1325376076  47.034331 -112.561071   \n",
       "4  a41d7549acf90789359a9aa5346dcb46  1325376186  38.674999  -78.632459   \n",
       "\n",
       "   is_fraud  \n",
       "0         0  \n",
       "1         0  \n",
       "2         0  \n",
       "3         0  \n",
       "4         0  \n",
       "\n",
       "[5 rows x 23 columns]"
      ]
     },
     "execution_count": 3,
     "metadata": {},
     "output_type": "execute_result"
    }
   ],
   "source": [
    "credit_card_data.head()"
   ]
  },
  {
   "cell_type": "code",
   "execution_count": 4,
   "metadata": {
    "execution": {
     "iopub.execute_input": "2023-12-17T16:44:12.352157Z",
     "iopub.status.busy": "2023-12-17T16:44:12.351247Z",
     "iopub.status.idle": "2023-12-17T16:44:12.355499Z",
     "shell.execute_reply": "2023-12-17T16:44:12.354808Z",
     "shell.execute_reply.started": "2023-12-17T16:40:49.864401Z"
    },
    "papermill": {
     "duration": 0.024124,
     "end_time": "2023-12-17T16:44:12.355612",
     "exception": false,
     "start_time": "2023-12-17T16:44:12.331488",
     "status": "completed"
    },
    "tags": []
   },
   "outputs": [
    {
     "data": {
      "text/plain": [
       "Index(['Unnamed: 0', 'trans_date_trans_time', 'cc_num', 'merchant', 'category',\n",
       "       'amt', 'first', 'last', 'gender', 'street', 'city', 'state', 'zip',\n",
       "       'lat', 'long', 'city_pop', 'job', 'dob', 'trans_num', 'unix_time',\n",
       "       'merch_lat', 'merch_long', 'is_fraud'],\n",
       "      dtype='object')"
      ]
     },
     "execution_count": 4,
     "metadata": {},
     "output_type": "execute_result"
    }
   ],
   "source": [
    "credit_card_data.columns"
   ]
  },
  {
   "cell_type": "code",
   "execution_count": 5,
   "metadata": {
    "execution": {
     "iopub.execute_input": "2023-12-17T16:44:12.417545Z",
     "iopub.status.busy": "2023-12-17T16:44:12.416962Z",
     "iopub.status.idle": "2023-12-17T16:44:12.525406Z",
     "shell.execute_reply": "2023-12-17T16:44:12.524824Z",
     "shell.execute_reply.started": "2023-12-17T16:40:49.873278Z"
    },
    "papermill": {
     "duration": 0.12556,
     "end_time": "2023-12-17T16:44:12.525515",
     "exception": false,
     "start_time": "2023-12-17T16:44:12.399955",
     "status": "completed"
    },
    "tags": []
   },
   "outputs": [],
   "source": [
    "credit_card_data['hour'] = credit_card_data.trans_date_trans_time.dt.hour"
   ]
  },
  {
   "cell_type": "code",
   "execution_count": 6,
   "metadata": {
    "execution": {
     "iopub.execute_input": "2023-12-17T16:44:12.556839Z",
     "iopub.status.busy": "2023-12-17T16:44:12.556260Z",
     "iopub.status.idle": "2023-12-17T16:44:12.670807Z",
     "shell.execute_reply": "2023-12-17T16:44:12.670186Z",
     "shell.execute_reply.started": "2023-12-17T16:40:49.985939Z"
    },
    "papermill": {
     "duration": 0.132104,
     "end_time": "2023-12-17T16:44:12.670935",
     "exception": false,
     "start_time": "2023-12-17T16:44:12.538831",
     "status": "completed"
    },
    "tags": []
   },
   "outputs": [],
   "source": [
    "credit_card_data['hourEnc'] = 0\n",
    "credit_card_data.loc[credit_card_data.hour < 5,'hourEnc'] = 1\n",
    "credit_card_data.loc[credit_card_data.hour > 21,'hourEnc'] = 1"
   ]
  },
  {
   "cell_type": "code",
   "execution_count": 7,
   "metadata": {
    "execution": {
     "iopub.execute_input": "2023-12-17T16:44:12.720113Z",
     "iopub.status.busy": "2023-12-17T16:44:12.719454Z",
     "iopub.status.idle": "2023-12-17T16:44:13.300174Z",
     "shell.execute_reply": "2023-12-17T16:44:13.299509Z",
     "shell.execute_reply.started": "2023-12-17T16:40:50.082245Z"
    },
    "papermill": {
     "duration": 0.61601,
     "end_time": "2023-12-17T16:44:13.300286",
     "exception": false,
     "start_time": "2023-12-17T16:44:12.684276",
     "status": "completed"
    },
    "tags": []
   },
   "outputs": [],
   "source": [
    "\n",
    "credit_card_data['trans_date_trans_time'] = pd.to_datetime(credit_card_data['trans_date_trans_time'])\n",
    "\n",
    "credit_card_data.sort_values(by='trans_date_trans_time', inplace=True)\n",
    "\n",
    "credit_card_data['transactions_last_1d'] = credit_card_data['trans_date_trans_time'].rolling(window=1).count()\n",
    "credit_card_data['transactions_last_7d'] = credit_card_data['trans_date_trans_time'].rolling(window=7).count()\n",
    "credit_card_data['transactions_last_30d'] = credit_card_data['trans_date_trans_time'].rolling(window=30).count()\n",
    "\n",
    "credit_card_data['transactions_last_1d'].fillna(0, inplace=True)\n",
    "credit_card_data['transactions_last_7d'].fillna(0, inplace=True)\n",
    "credit_card_data['transactions_last_30d'].fillna(0, inplace=True)"
   ]
  },
  {
   "cell_type": "code",
   "execution_count": 8,
   "metadata": {
    "execution": {
     "iopub.execute_input": "2023-12-17T16:44:13.350996Z",
     "iopub.status.busy": "2023-12-17T16:44:13.350283Z",
     "iopub.status.idle": "2023-12-17T16:44:21.409099Z",
     "shell.execute_reply": "2023-12-17T16:44:21.408311Z",
     "shell.execute_reply.started": "2023-12-17T16:40:50.691990Z"
    },
    "papermill": {
     "duration": 8.0945,
     "end_time": "2023-12-17T16:44:21.409252",
     "exception": false,
     "start_time": "2023-12-17T16:44:13.314752",
     "status": "completed"
    },
    "tags": []
   },
   "outputs": [],
   "source": [
    "credit_card_data['trans_date_trans_time'] = pd.to_datetime(credit_card_data['trans_date_trans_time'])\n",
    "\n",
    "def last1DayTransactionCount(group):\n",
    "    return group['trans_date_trans_time'].rolling(window=1).count()\n",
    "\n",
    "def last7DaysTransactionCount(group):\n",
    "    return group['trans_date_trans_time'].rolling(window=7).count()\n",
    "\n",
    "def last30DaysTransactionCount(group):\n",
    "    return group['trans_date_trans_time'].rolling(window=30).count()\n",
    "\n",
    "df1 = credit_card_data.groupby('cc_num').apply(last1DayTransactionCount)\n",
    "df1 = credit_card_data.groupby('cc_num').apply(last7DaysTransactionCount)\n",
    "df1 = credit_card_data.groupby('cc_num').apply(last30DaysTransactionCount)\n",
    "\n",
    "df1 = df1.reset_index(level=0, drop=True)"
   ]
  },
  {
   "cell_type": "code",
   "execution_count": 9,
   "metadata": {
    "execution": {
     "iopub.execute_input": "2023-12-17T16:44:21.460604Z",
     "iopub.status.busy": "2023-12-17T16:44:21.459942Z",
     "iopub.status.idle": "2023-12-17T16:44:38.433246Z",
     "shell.execute_reply": "2023-12-17T16:44:38.432681Z",
     "shell.execute_reply.started": "2023-12-17T16:40:58.659237Z"
    },
    "papermill": {
     "duration": 17.010501,
     "end_time": "2023-12-17T16:44:38.433373",
     "exception": false,
     "start_time": "2023-12-17T16:44:21.422872",
     "status": "completed"
    },
    "tags": []
   },
   "outputs": [],
   "source": [
    "credit_card_data['trans_date_trans_time'] = pd.to_datetime(credit_card_data['trans_date_trans_time'])\n",
    "\n",
    "def last1DayTransactionCount(group):\n",
    "    return group.resample('1D', on='trans_date_trans_time').size()\n",
    "\n",
    "def last7DaysTransactionCount(group):\n",
    "    return group.resample('7D', on='trans_date_trans_time').size()\n",
    "\n",
    "def last30DaysTransactionCount(group):\n",
    "    return group.resample('30D', on='trans_date_trans_time').size()\n",
    "\n",
    "def timeSinceLastTransaction(group):\n",
    "    return group['trans_date_trans_time'].diff().dt.total_seconds()\n",
    "\n",
    "df1 = credit_card_data.groupby('cc_num').apply(last1DayTransactionCount)\n",
    "df1 = credit_card_data.groupby('cc_num').apply(last7DaysTransactionCount)\n",
    "df1 = credit_card_data.groupby('cc_num').apply(last30DaysTransactionCount)\n",
    "df1['time_diff'] = credit_card_data.groupby('cc_num').apply(timeSinceLastTransaction)\n",
    "\n",
    "df1 = df1.reset_index(level=0, drop=True)"
   ]
  },
  {
   "cell_type": "code",
   "execution_count": 10,
   "metadata": {
    "execution": {
     "iopub.execute_input": "2023-12-17T16:44:38.548020Z",
     "iopub.status.busy": "2023-12-17T16:44:38.546507Z",
     "iopub.status.idle": "2023-12-17T16:44:40.410223Z",
     "shell.execute_reply": "2023-12-17T16:44:40.410747Z",
     "shell.execute_reply.started": "2023-12-17T16:41:15.872974Z"
    },
    "papermill": {
     "duration": 1.937807,
     "end_time": "2023-12-17T16:44:40.410888",
     "exception": false,
     "start_time": "2023-12-17T16:44:38.473081",
     "status": "completed"
    },
    "tags": []
   },
   "outputs": [
    {
     "data": {
      "image/png": "[encoded data removed]",
      "text/plain": [
       "<Figure size 864x576 with 2 Axes>"
      ]
     },
     "metadata": {
      "needs_background": "light"
     },
     "output_type": "display_data"
    }
   ],
   "source": [
    "numeric_data = credit_card_data.select_dtypes(include=['number'])\n",
    "\n",
    "correlation_matrix = numeric_data.corr()\n",
    "\n",
    "plt.figure(figsize=(12, 8))\n",
    "sns.heatmap(correlation_matrix, annot=True, cmap='coolwarm', fmt='.2f', linewidths=0.5)\n",
    "plt.title('Correlation Heatmap')\n",
    "plt.show()"
   ]
  },
  {
   "cell_type": "code",
   "execution_count": 11,
   "metadata": {
    "execution": {
     "iopub.execute_input": "2023-12-17T16:44:40.502645Z",
     "iopub.status.busy": "2023-12-17T16:44:40.502006Z",
     "iopub.status.idle": "2023-12-17T16:44:41.227532Z",
     "shell.execute_reply": "2023-12-17T16:44:41.226879Z",
     "shell.execute_reply.started": "2023-12-17T16:41:17.726497Z"
    },
    "papermill": {
     "duration": 0.799958,
     "end_time": "2023-12-17T16:44:41.227643",
     "exception": false,
     "start_time": "2023-12-17T16:44:40.427685",
     "status": "completed"
    },
    "tags": []
   },
   "outputs": [
    {
     "name": "stdout",
     "output_type": "stream",
     "text": [
      "is_fraud                 1.000000\n",
      "amt                      0.219404\n",
      "hourEnc                  0.101077\n",
      "hour                     0.013799\n",
      "unix_time                0.005078\n",
      "Unnamed: 0               0.004767\n",
      "zip                      0.002162\n",
      "city_pop                 0.002136\n",
      "lat                      0.001894\n",
      "merch_lat                0.001741\n",
      "merch_long               0.001721\n",
      "long                     0.001721\n",
      "cc_num                   0.000981\n",
      "transactions_last_30d    0.000315\n",
      "transactions_last_7d     0.000148\n",
      "transactions_last_1d          NaN\n",
      "Name: is_fraud, dtype: float64\n"
     ]
    }
   ],
   "source": [
    "numeric_columns = credit_card_data.select_dtypes(include='number')\n",
    "fraud_correlation = numeric_columns.corr()['is_fraud'].abs().sort_values(ascending=False)\n",
    "\n",
    "print(fraud_correlation)"
   ]
  },
  {
   "cell_type": "code",
   "execution_count": 12,
   "metadata": {
    "execution": {
     "iopub.execute_input": "2023-12-17T16:44:41.273087Z",
     "iopub.status.busy": "2023-12-17T16:44:41.272483Z",
     "iopub.status.idle": "2023-12-17T16:44:57.962075Z",
     "shell.execute_reply": "2023-12-17T16:44:57.961522Z",
     "shell.execute_reply.started": "2023-12-17T16:41:18.504307Z"
    },
    "papermill": {
     "duration": 16.717887,
     "end_time": "2023-12-17T16:44:57.962195",
     "exception": false,
     "start_time": "2023-12-17T16:44:41.244308",
     "status": "completed"
    },
    "tags": []
   },
   "outputs": [
    {
     "name": "stdout",
     "output_type": "stream",
     "text": [
      "Accuracy: 0.9959961779244546\n",
      "Confusion Matrix:\n",
      "[[553494     80]\n",
      " [  2145      0]]\n",
      "Classification Report:\n",
      "              precision    recall  f1-score   support\n",
      "\n",
      "           0       1.00      1.00      1.00    553574\n",
      "           1       0.00      0.00      0.00      2145\n",
      "\n",
      "    accuracy                           1.00    555719\n",
      "   macro avg       0.50      0.50      0.50    555719\n",
      "weighted avg       0.99      1.00      0.99    555719\n",
      "\n"
     ]
    }
   ],
   "source": [
    "# Load train and test datasets\n",
    "train_data = pd.read_csv('/kaggle/input/fraud-detection/fraudTrain.csv')\n",
    "test_data = pd.read_csv('/kaggle/input/fraud-detection/fraudTest.csv')\n",
    "\n",
    "# Drop non-numeric and non-binary columns for simplicity\n",
    "numeric_columns_train = train_data.select_dtypes(include='number')\n",
    "numeric_columns_test = test_data.select_dtypes(include='number')\n",
    "\n",
    "X_train = numeric_columns_train.drop(['is_fraud'], axis=1)\n",
    "y_train = train_data['is_fraud']\n",
    "\n",
    "X_test = numeric_columns_test.drop(['is_fraud'], axis=1)\n",
    "y_test = test_data['is_fraud']\n",
    "\n",
    "# Preprocess the data\n",
    "scaler = StandardScaler()\n",
    "X_train_scaled = scaler.fit_transform(X_train)\n",
    "X_test_scaled = scaler.transform(X_test)\n",
    "\n",
    "# Build and train the Logistic Regression model\n",
    "model = LogisticRegression(random_state=42)\n",
    "model.fit(X_train_scaled, y_train)\n",
    "\n",
    "# Make predictions on the test set\n",
    "y_pred = model.predict(X_test_scaled)\n",
    "\n",
    "# Evaluate the model\n",
    "accuracy = accuracy_score(y_test, y_pred)\n",
    "conf_matrix = confusion_matrix(y_test, y_pred)\n",
    "classification_rep = classification_report(y_test, y_pred)\n",
    "\n",
    "# Print the results\n",
    "print(f\"Accuracy: {accuracy}\")\n",
    "print(f\"Confusion Matrix:\\n{conf_matrix}\")\n",
    "print(f\"Classification Report:\\n{classification_rep}\")"
   ]
  }
 ],
 "metadata": {
  "kaggle": {
   "accelerator": "nvidiaTeslaT4",
   "dataSources": [
    {
     "datasetId": 817870,
     "sourceId": 1399887,
     "sourceType": "datasetVersion"
    }
   ],
   "dockerImageVersionId": 30042,
   "isGpuEnabled": true,
   "isInternetEnabled": true,
   "language": "python",
   "sourceType": "notebook"
  },
  "kernelspec": {
   "display_name": "Python 3 (ipykernel)",
   "language": "python",
   "name": "python3"
  },
  "language_info": {
   "codemirror_mode": {
    "name": "ipython",
    "version": 3
   },
   "file_extension": ".py",
   "mimetype": "text/x-python",
   "name": "python",
   "nbconvert_exporter": "python",
   "pygments_lexer": "ipython3",
   "version": "3.11.5"
  },
  "papermill": {
   "duration": 63.796391,
   "end_time": "2023-12-17T16:44:58.086643",
   "environment_variables": {},
   "exception": null,
   "input_path": "__notebook__.ipynb",
   "output_path": "__notebook__.ipynb",
   "parameters": {},
   "start_time": "2023-12-17T16:43:54.290252",
   "version": "2.1.0"
  }
 },
 "nbformat": 4,
 "nbformat_minor": 4
}
